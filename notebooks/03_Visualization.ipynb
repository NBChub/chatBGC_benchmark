{
 "cells": [
  {
   "cell_type": "code",
   "execution_count": null,
   "id": "8b872c65-3df8-48f9-b84c-fec19c18abe8",
   "metadata": {},
   "outputs": [],
   "source": [
    "import pandas as pd\n",
    "import altair as alt\n",
    "from pathlib import Path"
   ]
  },
  {
   "cell_type": "code",
   "execution_count": null,
   "id": "c3c3844d-8901-4f47-87a2-c9183488d89f",
   "metadata": {},
   "outputs": [],
   "source": [
    "filter_out = [\"mistral-nemo\"]"
   ]
  },
  {
   "cell_type": "code",
   "execution_count": null,
   "id": "17496ab6-d36d-459c-bfb0-01c3f1b8a0cc",
   "metadata": {},
   "outputs": [],
   "source": [
    "df = pd.read_csv(\"2.Evaluated_benchmark_response.tsv\", sep=\"\\t\", index_col=0)\n",
    "df = df[~df.model.isin(filter_out)]\n",
    "chatbgc_version = df.chatbgc_version.unique()[0]\n",
    "benchmark_version = df.benchmark_version.unique()[0]\n",
    "df.summary_evaluation = df.summary_evaluation.fillna(\"N/A\")\n",
    "df.sql_evaluation = df.sql_evaluation.fillna(\"N/A\")\n",
    "df"
   ]
  },
  {
   "cell_type": "code",
   "execution_count": null,
   "id": "28fc2442-53aa-4b7e-86cb-ab426d8fa2b1",
   "metadata": {},
   "outputs": [],
   "source": [
    "df.sql_query_success = df.sql_query_success.replace({True : \"Success\", False : \"Fail\"})\n",
    "df.sql_evaluation = df.sql_evaluation.replace({True : \"Correct\", False : \"Incorrect\"})"
   ]
  },
  {
   "cell_type": "code",
   "execution_count": null,
   "id": "c0b17312-5a9a-4484-80f3-a175755f4433",
   "metadata": {},
   "outputs": [],
   "source": [
    "# Define custom order for difficulty\n",
    "difficulty_order = ['Easy', 'Medium', 'Hard']\n",
    "barchart_order = [\"Fail\", \"Success\"]\n",
    "\n",
    "# Calculate the number of successes per model\n",
    "model_success_order = df[df['sql_query_success'] == \"Success\"].groupby('model').size().sort_values(ascending=False).index.tolist()\n",
    "\n",
    "# Group by difficulty, model, and success and count occurrences\n",
    "grouped = df.groupby(['difficulty', 'model', 'sql_query_success']).size().reset_index(name='count')\n",
    "\n",
    "# Create selection for interactivity\n",
    "selection = alt.selection_point(fields=['sql_query_success'])\n",
    "\n",
    "# Plotting with Altair\n",
    "chart1 = alt.Chart(grouped).mark_bar().encode(\n",
    "    x=alt.X('count:Q', stack='normalize', title='Success Rate', sort=barchart_order),\n",
    "    y=alt.Y('difficulty:O', title=None, sort=difficulty_order, axis=alt.Axis(labels=False, tickSize=0)),\n",
    "    color=alt.Color('sql_query_success:N', title='sql_query_success', legend = alt.Legend(title=None,orient='top'),\n",
    "                   scale=alt.Scale(domain=[\"Success\", \"Fail\"], range=[\"#08415c\", \"#e5e5e5\"])\n",
    "                   ),\n",
    "    order=alt.Order('sql_query_success', sort='descending'),\n",
    "    row=alt.Row('model:N', title=None, sort=model_success_order),\n",
    "    opacity=alt.condition(selection, alt.value(1), alt.value(0.2))\n",
    ").add_params(\n",
    "    selection\n",
    ").properties(\n",
    "    title='SQL Execution',\n",
    "    height=60,\n",
    "    width=150\n",
    ")\n",
    "\n",
    "# Display the chart\n",
    "chart1.show()\n",
    "\n",
    "# Save the chart as an SVG file\n",
    "outfile = Path(f\"../figures/benchmark_success_{chatbgc_version}_{benchmark_version}.svg\")\n",
    "outfile.parent.mkdir(exist_ok=True, parents=True)\n",
    "chart1.save(outfile)"
   ]
  },
  {
   "cell_type": "code",
   "execution_count": null,
   "id": "320eec36-b3e4-4b83-94e1-7cc50582952d",
   "metadata": {},
   "outputs": [],
   "source": [
    "# Define custom order for difficulty\n",
    "difficulty_order = ['Easy', 'Medium', 'Hard']\n",
    "\n",
    "# Group by difficulty, model, and success and count occurrences\n",
    "grouped = df.groupby(['difficulty', 'model', 'sql_evaluation']).size().reset_index(name='count')\n",
    "\n",
    "# Create selection for interactivity\n",
    "selection = alt.selection_point(fields=['sql_evaluation'])\n",
    "\n",
    "# Customize the order of the stack\n",
    "custom_order_dict = {'Correct': 1, 'Wrong': 2, 'N/A': 3}\n",
    "\n",
    "# Map the custom order to the data\n",
    "df['custom_order_sql_evaluation'] = df['sql_evaluation'].map(custom_order_dict)\n",
    "\n",
    "# Plotting with Altair\n",
    "chart2 = alt.Chart(grouped).mark_bar().encode(\n",
    "    x=alt.X('count:Q', stack='normalize', title='Correct SQL Proportion'),\n",
    "    y=alt.Y('difficulty:O', title=None, sort=difficulty_order, axis=alt.Axis(labels=False, tickSize=0)),\n",
    "    color=alt.Color('sql_evaluation:N', title='sql_evaluation', legend = alt.Legend(title=None,orient='top'),\n",
    "                    scale=alt.Scale(domain=[\"Correct\", \"Incorrect\", \"N/A\"], range=[\"#006e90\", \"#f18f01\", \"#e5e5e5\"])\n",
    "                   ),\n",
    "    order=alt.Order('sql_evaluation', sort='ascending'),\n",
    "    row=alt.Row('model:N', title=None, sort=model_success_order, \n",
    "                header=alt.Header(labels=False)),\n",
    "    opacity=alt.condition(selection, alt.value(1), alt.value(0.2))\n",
    ").add_params(\n",
    "    selection\n",
    ").properties(\n",
    "    title='SQL Evaluation',\n",
    "    height=60,\n",
    "    width=150\n",
    ")\n",
    "\n",
    "# Display the chart\n",
    "chart2.show()\n",
    "\n",
    "# Save the chart as an SVG file\n",
    "outfile = Path(f\"../figures/benchmark_sql_{chatbgc_version}_{benchmark_version}.svg\")\n",
    "outfile.parent.mkdir(exist_ok=True, parents=True)\n",
    "chart2.save(outfile)"
   ]
  },
  {
   "cell_type": "code",
   "execution_count": null,
   "id": "3a88b817-4306-4128-bcd3-e72194f932d2",
   "metadata": {},
   "outputs": [],
   "source": [
    "# Define custom order for difficulty\n",
    "difficulty_order = ['Easy', 'Medium', 'Hard']\n",
    "\n",
    "# Calculate the number of successes per model\n",
    "#model_success_order = df[df['summary_evaluation'] == True].groupby('model').size().sort_values(ascending=False).index.tolist()\n",
    "\n",
    "# Group by difficulty, model, and success and count occurrences\n",
    "grouped = df.groupby(['difficulty', 'model', 'summary_evaluation']).size().reset_index(name='count')\n",
    "\n",
    "# Create selection for interactivity\n",
    "selection = alt.selection_point(fields=['summary_evaluation'])\n",
    "\n",
    "# Plotting with Altair\n",
    "chart3 = alt.Chart(grouped).mark_bar().encode(\n",
    "    x=alt.X('count:Q', stack='normalize', title='Summary Evaluation'),\n",
    "    y=alt.Y('difficulty:O', title=None, sort=difficulty_order, axis=alt.Axis(labels=True, orient='right')),\n",
    "    color=alt.Color('summary_evaluation:N', title='Summary Evaluation', legend = alt.Legend(title=None, orient='top'),\n",
    "                    scale=alt.Scale(domain=[1, 2, 3, 4, 5, \"N/A\"], range=['#ff0000', '#ff6666', '#cc66ff', '#6666ff', '#0000ff', \"#e5e5e5\"])\n",
    "                   ),\n",
    "    order=alt.Order('summary_evaluation', sort='descending'),\n",
    "    row=alt.Row('model:N', title=None, sort=model_success_order, header=alt.Header(labels=False)),\n",
    "    opacity=alt.condition(selection, alt.value(1), alt.value(0.2))\n",
    ").add_params(\n",
    "    selection\n",
    ").properties(\n",
    "    title='Summary Rating',\n",
    "    height=60,\n",
    "    width=150\n",
    ")\n",
    "\n",
    "# Display the chart\n",
    "chart3.show()\n",
    "\n",
    "# Save the chart as an SVG file\n",
    "outfile = Path(f\"../figures/benchmark_summary_{chatbgc_version}_{benchmark_version}.svg\")\n",
    "outfile.parent.mkdir(exist_ok=True, parents=True)\n",
    "chart3.save(outfile)"
   ]
  },
  {
   "cell_type": "code",
   "execution_count": null,
   "id": "936d2366-9281-4c18-92a3-5e0fbd19b009",
   "metadata": {},
   "outputs": [],
   "source": [
    "# Horizontally concatenate the charts\n",
    "combined_chart = alt.hconcat(chart1, chart2, chart3).resolve_scale(\n",
    "    y='shared',  # Share the y-axis scale across all charts\n",
    "    color='independent'\n",
    ")\n",
    "\n",
    "# Display the combined chart\n",
    "combined_chart.show()"
   ]
  },
  {
   "cell_type": "code",
   "execution_count": null,
   "id": "0d719925-46ca-48fa-917e-2f08865be57a",
   "metadata": {},
   "outputs": [],
   "source": [
    "# Save the chart as an SVG file\n",
    "for filetype in [\"svg\", \"png\"]:\n",
    "    outfile = Path(f\"../figures/benchmark_overall_{chatbgc_version}_{benchmark_version}.{filetype}\")\n",
    "    outfile.parent.mkdir(exist_ok=True, parents=True)\n",
    "    combined_chart.save(outfile)"
   ]
  }
 ],
 "metadata": {
  "kernelspec": {
   "display_name": "Python 3 (ipykernel)",
   "language": "python",
   "name": "python3"
  },
  "language_info": {
   "codemirror_mode": {
    "name": "ipython",
    "version": 3
   },
   "file_extension": ".py",
   "mimetype": "text/x-python",
   "name": "python",
   "nbconvert_exporter": "python",
   "pygments_lexer": "ipython3",
   "version": "3.10.12"
  }
 },
 "nbformat": 4,
 "nbformat_minor": 5
}
