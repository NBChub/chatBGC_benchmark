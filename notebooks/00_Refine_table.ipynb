{
 "cells": [
  {
   "cell_type": "code",
   "execution_count": null,
   "id": "e9652165-bdbd-4954-8668-0c1eb71a969a",
   "metadata": {},
   "outputs": [],
   "source": [
    "import pandas as pd"
   ]
  },
  {
   "cell_type": "code",
   "execution_count": null,
   "id": "b831075f-1e33-4813-9d91-5fb8d8c8aac1",
   "metadata": {},
   "outputs": [],
   "source": [
    "df_new = pd.read_excel(\"Table_1._Question-SQL_pair_NEW.xlsx\", index_col=0)\n",
    "df_new.label = df_new.label.fillna(\"Training\")\n",
    "df_new.index.name = \"id\"\n",
    "df_new = df_new.reset_index()\n",
    "df_new.sql = df_new.sql.str.strip().str.replace(\"\\n\", \" \")\n",
    "df_new"
   ]
  },
  {
   "cell_type": "code",
   "execution_count": null,
   "id": "ece642d6-e975-4347-8f8b-3588391571a9",
   "metadata": {},
   "outputs": [],
   "source": [
    "df_old = pd.read_json(\"../train/antismash/question_sql_pair.json\")"
   ]
  },
  {
   "cell_type": "code",
   "execution_count": null,
   "id": "f68a02fb-7135-4dd5-8e86-79990c233006",
   "metadata": {},
   "outputs": [],
   "source": [
    "df_new.reset_index()"
   ]
  },
  {
   "cell_type": "code",
   "execution_count": null,
   "id": "6fa461d1-9dec-4253-9ebc-9248c1f9a1bd",
   "metadata": {},
   "outputs": [],
   "source": [
    "df_new.to_json(\"question_sql_pair_benchmark_140824.json\", indent=2, orient=\"records\")"
   ]
  },
  {
   "cell_type": "code",
   "execution_count": null,
   "id": "724c132d-df0a-48ae-9355-fc23097dcee2",
   "metadata": {},
   "outputs": [],
   "source": [
    "df_test = df_new[df_new.label == \"Test\"]"
   ]
  },
  {
   "cell_type": "code",
   "execution_count": null,
   "id": "66ee31a0-ab70-4cb5-978d-84c8167ac73e",
   "metadata": {},
   "outputs": [],
   "source": [
    "df_test.to_json(\"question_sql_pair_test_140824.json\", indent=2, orient=\"records\")"
   ]
  }
 ],
 "metadata": {
  "kernelspec": {
   "display_name": "Python 3 (ipykernel)",
   "language": "python",
   "name": "python3"
  },
  "language_info": {
   "codemirror_mode": {
    "name": "ipython",
    "version": 3
   },
   "file_extension": ".py",
   "mimetype": "text/x-python",
   "name": "python",
   "nbconvert_exporter": "python",
   "pygments_lexer": "ipython3",
   "version": "3.10.12"
  }
 },
 "nbformat": 4,
 "nbformat_minor": 5
}
