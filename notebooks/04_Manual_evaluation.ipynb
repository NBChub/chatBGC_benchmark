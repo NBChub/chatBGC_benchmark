{
 "cells": [
  {
   "cell_type": "code",
   "execution_count": 1,
   "id": "5fef46dd-8249-4c1d-9340-3a4323784946",
   "metadata": {},
   "outputs": [],
   "source": [
    "#! pip install \"altair[all]\"\n",
    "import pandas as pd\n",
    "import altair as alt\n",
    "from pathlib import Path"
   ]
  },
  {
   "cell_type": "code",
   "execution_count": 2,
   "id": "15e9ed75-c0b0-4827-9a6d-8a5411355648",
   "metadata": {},
   "outputs": [],
   "source": [
    "chatbgc_version\t= \"0.2.1-alpha\"\n",
    "benchmark_version = \"v0.2.1\""
   ]
  },
  {
   "cell_type": "code",
   "execution_count": 9,
   "id": "ea3c6734-5d42-4958-8590-35c1fcef074a",
   "metadata": {},
   "outputs": [
    {
     "data": {
      "text/plain": [
       "[1.0, 3.0, 8.0, 22.0, 24.0, 25.0, 26.0, 28.0, 33.0, 34.0]"
      ]
     },
     "execution_count": 9,
     "metadata": {},
     "output_type": "execute_result"
    }
   ],
   "source": [
    "df = pd.read_csv(f\"2.Evaluated_benchmark_response.tsv\", sep=\"\\t\", index_col=0)\n",
    "sorted(df.id.unique())"
   ]
  },
  {
   "cell_type": "code",
   "execution_count": 26,
   "id": "87e5a44d-51ee-4d5c-a0f8-b617221a1c07",
   "metadata": {},
   "outputs": [
    {
     "name": "stdout",
     "output_type": "stream",
     "text": [
      "Hard\n",
      "\n",
      "Which PKS regions has trans_at modules?\n",
      "\n",
      "SELECT r.*, m.*, bgc.*  FROM antismash.regions r  JOIN antismash.modules m ON r.region_id=m.region_id JOIN antismash.rel_regions_types rt ON r.region_id=rt.region_id  JOIN antismash.bgc_types bgc ON rt.bgc_type_id=bgc.bgc_type_id  WHERE bgc.term ILIKE '%PKS%'  AND m.trans_at = true;\n",
      "\n",
      "nan\n",
      "\n",
      "The following PKS regions have trans_at modules:\n",
      "\n",
      "- Region 2533\n",
      "- Region 2726\n",
      "- Region 2727\n",
      "- Region 2784\n",
      "- Region 2785\n",
      "- Region 2812\n",
      "- Region 2958\n",
      "- Region 2991\n",
      "- Region 3104\n",
      "- Region 3218\n",
      "- Region 3233\n",
      "- Region 3338\n",
      "- Region 3404\n",
      "- Region 3488\n",
      "- Region 3490\n",
      "- Region 3533\n",
      "- Region 3576\n",
      "- Region 3684\n",
      "- Region 8383\n",
      "- Region 8402\n",
      "- Region 8403\n",
      "- Region 8434\n",
      "- Region 8481\n",
      "- Region 8596\n",
      "- Region 8755\n",
      "- Region 8756\n",
      "- Region 8840\n",
      "- Region 8906\n",
      "- Region 8911\n",
      "\n",
      "The following PKS regions have trans-AT modules:\n",
      "- Region 2726\n",
      "- Region 2784\n",
      "- Region 3218\n",
      "- Region 3233\n",
      "- Region 3338\n",
      "- Region 3576\n",
      "- Region 8434\n",
      "- Region 8755\n",
      "\n",
      "The PKS regions with trans-AT modules are:\n",
      "- Region 10 of accession NBC_01645_3 (region_id 2726)\n",
      "- Region 31 of accession CP107858 (region_id 2784)\n",
      "- Region 1 of accession NBC_00237_4 (region_id 3218)\n",
      "- Region 4 of accession NBC_00237_3 (region_id 3233)\n",
      "- Region 23 of accession CP107963 (region_id 3338)\n",
      "- Region 35 of accession CP108571 (region_id 3576)\n",
      "- Region 31 of accession CP109262 (region_id 8755)\n",
      "- Region 1 of accession CP108685 (region_id 8434)\n",
      "\n"
     ]
    }
   ],
   "source": [
    "columns = [\"difficulty\", \"question\", \"answer_sql_expected\", \"answer_summary_expected\", \"answer_summary_LLM\"]\n",
    "df_subset = df[(df.model == \"gpt-4o\") & (df.id == 34)].loc[:, columns]\n",
    "for c in columns:\n",
    "    for i in df_subset[c].unique():\n",
    "        print(i)\n",
    "        print()"
   ]
  },
  {
   "cell_type": "code",
   "execution_count": null,
   "id": "451fc296-2464-4534-b81e-6767e51ff241",
   "metadata": {},
   "outputs": [],
   "source": [
    "df_evaluation"
   ]
  },
  {
   "cell_type": "code",
   "execution_count": null,
   "id": "fbeb6e6f-dcdb-4cc4-a39b-ef3f6cbe592b",
   "metadata": {},
   "outputs": [],
   "source": [
    "with open(f\"../result/gpt-4o/chatbgc_{chatbgc_version}/benchmark_{benchmark_version}/iteration_2/benchmark.log\", \"r\") as f:\n",
    "    benchmark_log = f.readlines()"
   ]
  },
  {
   "cell_type": "code",
   "execution_count": null,
   "id": "3f6388bd-2762-4251-83ac-88ead01ae7ab",
   "metadata": {},
   "outputs": [],
   "source": [
    "log_data = {}\n",
    "ctr = 0\n",
    "for num, line in enumerate(benchmark_log):\n",
    "    if 'INFO - Processing question' in line:\n",
    "        print(\"\\n-----------\")\n",
    "        print(num, line)\n",
    "        start = num\n",
    "        ctr += 1\n",
    "    if 'processed successfully' in line:\n",
    "        print(num, line)\n",
    "        stop = num\n",
    "        log_data[ctr] = [start, stop]\n",
    "        "
   ]
  },
  {
   "cell_type": "code",
   "execution_count": null,
   "id": "1fab8362-d983-4df2-9321-54770110a415",
   "metadata": {},
   "outputs": [],
   "source": [
    "log_data"
   ]
  },
  {
   "cell_type": "code",
   "execution_count": null,
   "id": "f1aceb71-bad5-41d0-927b-7d6a68c6a26d",
   "metadata": {},
   "outputs": [],
   "source": [
    "q = 1\n",
    "benchmark_log[log_data[q][0]:log_data[q][1]+1]"
   ]
  },
  {
   "cell_type": "code",
   "execution_count": null,
   "id": "83eeb0ee-5755-41d4-b19a-08b18929c090",
   "metadata": {},
   "outputs": [],
   "source": [
    "q = 3\n",
    "benchmark_log[log_data[q][0]:log_data[q][1]+1]"
   ]
  }
 ],
 "metadata": {
  "kernelspec": {
   "display_name": "Python 3 (ipykernel)",
   "language": "python",
   "name": "python3"
  },
  "language_info": {
   "codemirror_mode": {
    "name": "ipython",
    "version": 3
   },
   "file_extension": ".py",
   "mimetype": "text/x-python",
   "name": "python",
   "nbconvert_exporter": "python",
   "pygments_lexer": "ipython3",
   "version": "3.10.12"
  }
 },
 "nbformat": 4,
 "nbformat_minor": 5
}
