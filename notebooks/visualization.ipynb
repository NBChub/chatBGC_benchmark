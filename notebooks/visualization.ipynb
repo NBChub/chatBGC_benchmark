{
 "cells": [
  {
   "cell_type": "code",
   "execution_count": null,
   "id": "5fef46dd-8249-4c1d-9340-3a4323784946",
   "metadata": {},
   "outputs": [],
   "source": [
    "#! pip install \"altair[all]\"\n",
    "import pandas as pd\n",
    "import altair as alt\n",
    "from pathlib import Path"
   ]
  },
  {
   "cell_type": "code",
   "execution_count": null,
   "id": "15e9ed75-c0b0-4827-9a6d-8a5411355648",
   "metadata": {},
   "outputs": [],
   "source": [
    "chatbgc_version\t= \"0.2.1\"\n",
    "benchmark_version = \"02d2c72\""
   ]
  },
  {
   "cell_type": "code",
   "execution_count": null,
   "id": "ea3c6734-5d42-4958-8590-35c1fcef074a",
   "metadata": {},
   "outputs": [],
   "source": [
    "df = pd.read_csv(f\"../result/benchmark_result_{chatbgc_version}_{benchmark_version}.tsv\", sep=\"\\t\", index_col=0)"
   ]
  },
  {
   "cell_type": "code",
   "execution_count": null,
   "id": "16d02f8d-67a1-4701-be6c-d3ef61774404",
   "metadata": {},
   "outputs": [],
   "source": [
    "df.loc[:, [\"id\", \"question\", \"difficulty\", \"model\", \"llm_type\"]]"
   ]
  },
  {
   "cell_type": "code",
   "execution_count": null,
   "id": "49d01b87-1b5b-442b-8563-18ae5e2d5c0e",
   "metadata": {},
   "outputs": [],
   "source": [
    "df_question = pd.read_json(\"../test/question_sql_pair.json\")\n",
    "for q in df_question.index:\n",
    "    question_id = df_question.loc[q, \"id\"]\n",
    "    for iteration in [1, 2, 3]:\n",
    "        for model in df.model.unique():\n",
    "            for llm_type in df.llm_type.unique():\n",
    "                index_name = f\"Q_{str(question_id).zfill(2)}__{llm_type}__{model}__RAG_benchmark__iteration_{iteration}\"\n",
    "                if index_name in df.index:\n",
    "                    df.loc[index_name, \"success\"] = True\n",
    "                else:\n",
    "                    for col in df_question.columns:\n",
    "                        value = df_question.loc[q, col]\n",
    "                        if col == \"sql\":\n",
    "                            col = \"answer_sql_expected\"\n",
    "                        elif col == \"answer\":\n",
    "                            col = \"answer_summary_expected\"\n",
    "                        df.loc[index_name, col] = value\n",
    "                        df.loc[index_name, \"chatbgc_version\"] = chatbgc_version\n",
    "                        df.loc[index_name, \"benchmark_version\"] = benchmark_version\n",
    "                        df.loc[index_name, \"model\"] = model\n",
    "                        df.loc[index_name, \"llm_type\"] = llm_type\n",
    "                        df.loc[index_name, \"success\"] = False"
   ]
  },
  {
   "cell_type": "code",
   "execution_count": null,
   "id": "969e40bc-9699-44bc-ac94-2ad606c70934",
   "metadata": {},
   "outputs": [],
   "source": [
    "df"
   ]
  },
  {
   "cell_type": "code",
   "execution_count": null,
   "id": "1d0e7ba7-e68a-453b-aac7-891d962c228c",
   "metadata": {},
   "outputs": [],
   "source": [
    "# Define custom order for difficulty\n",
    "difficulty_order = ['Easy', 'Medium', 'Hard']\n",
    "\n",
    "# Calculate the number of successes per model\n",
    "model_success_order = df[df['success'] == True].groupby('model').size().sort_values(ascending=False).index.tolist()\n",
    "\n",
    "# Group by difficulty, model, and success and count occurrences\n",
    "grouped = df.groupby(['difficulty', 'model', 'success']).size().reset_index(name='count')\n",
    "\n",
    "# Create selection for interactivity\n",
    "selection = alt.selection_point(fields=['success'])\n",
    "\n",
    "# Plotting with Altair\n",
    "chart = alt.Chart(grouped).mark_bar().encode(\n",
    "    x=alt.X('count:Q', stack='normalize', title='Success Rate'),\n",
    "    y=alt.Y('difficulty:O', title=None, sort=difficulty_order),\n",
    "    color=alt.Color('success:N', title='Success'),\n",
    "    order=alt.Order('success', sort='descending'),\n",
    "    row=alt.Row('model:N', title=None, sort=model_success_order),\n",
    "    opacity=alt.condition(selection, alt.value(1), alt.value(0.2))\n",
    ").add_params(\n",
    "    selection\n",
    ").properties(\n",
    "    title='Success Count by Difficulty and Model',\n",
    "    height=100\n",
    ")\n",
    "\n",
    "# Display the chart\n",
    "chart.show()\n",
    "\n",
    "# Save the chart as an SVG file\n",
    "outfile = Path(f\"../figures/benchmark_success_{chatbgc_version}_{benchmark_version}.svg\")\n",
    "outfile.parent.mkdir(exist_ok=True, parents=True)\n",
    "chart.save(outfile)"
   ]
  }
 ],
 "metadata": {
  "kernelspec": {
   "display_name": "Python 3 (ipykernel)",
   "language": "python",
   "name": "python3"
  },
  "language_info": {
   "codemirror_mode": {
    "name": "ipython",
    "version": 3
   },
   "file_extension": ".py",
   "mimetype": "text/x-python",
   "name": "python",
   "nbconvert_exporter": "python",
   "pygments_lexer": "ipython3",
   "version": "3.10.12"
  }
 },
 "nbformat": 4,
 "nbformat_minor": 5
}
